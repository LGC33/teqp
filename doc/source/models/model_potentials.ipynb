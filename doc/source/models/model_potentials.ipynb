{
 "cells": [
  {
   "cell_type": "markdown",
   "id": "940cc903",
   "metadata": {},
   "source": [
    "# Model Potentials\n",
    "\n",
    "These EOS for model potentials are useful for understanding theory, and capture some (but perhaps not all) of the physics of \"real\" fluids."
   ]
  },
  {
   "cell_type": "code",
   "execution_count": null,
   "id": "f5463428",
   "metadata": {},
   "outputs": [],
   "source": [
    "import teqp\n",
    "teqp.__version__"
   ]
  },
  {
   "cell_type": "markdown",
   "id": "bf22ac3d",
   "metadata": {},
   "source": [
    "## Square-well\n",
    "\n",
    "The potential is defined by\n",
    "\n",
    "$\n",
    "V(r) = \\left\\lbrace \\begin{array}{cc}\n",
    "         \\infty & r < \\sigma \\\\\n",
    "         -\\varepsilon & \\sigma < r < \\lambda\\sigma \\\\\n",
    "         0 & r > \\lambda \\sigma\n",
    "         \\end{array}\\right.        \n",
    "$\n",
    "\n",
    "from which an EOS can be developed by correlating results from molecular simulation."
   ]
  },
  {
   "cell_type": "code",
   "execution_count": null,
   "id": "435a84a9",
   "metadata": {},
   "outputs": [],
   "source": [
    "m = {  \n",
    "  \"kind\": \"SW_EspindolaHeredia2009\", \n",
    "  \"model\": {\n",
    "      \"lambda\": 1.3\n",
    "  }\n",
    "}\n",
    "model = teqp.make_model(m)"
   ]
  },
  {
   "cell_type": "markdown",
   "id": "f0caf9ea",
   "metadata": {},
   "source": [
    "## EXP-6"
   ]
  },
  {
   "cell_type": "code",
   "execution_count": null,
   "id": "dc38b705",
   "metadata": {},
   "outputs": [],
   "source": [
    "m = {  \n",
    "  \"kind\": \"EXP6_Kataoka1992\", \n",
    "  \"model\": {\n",
    "      \"alpha\": 12\n",
    "  }\n",
    "}\n",
    "model = teqp.make_model(m)"
   ]
  },
  {
   "cell_type": "markdown",
   "id": "b87cbd05",
   "metadata": {},
   "source": [
    "## Lennard-Jones Fluid\n",
    "\n",
    "The EOS for Lennard-Jones is that from Thol et al."
   ]
  },
  {
   "cell_type": "code",
   "execution_count": null,
   "id": "739e3e2b",
   "metadata": {},
   "outputs": [],
   "source": [
    "m = {  \n",
    "  \"kind\": \"LJ126_TholJPCRD2016\", \n",
    "  \"model\": {}\n",
    "}\n",
    "model = teqp.make_model(m) "
   ]
  },
  {
   "cell_type": "markdown",
   "id": "fad87158",
   "metadata": {},
   "source": [
    "## Two-Center Lennard-Jones Fluid"
   ]
  },
  {
   "cell_type": "code",
   "execution_count": null,
   "id": "ae5646de",
   "metadata": {},
   "outputs": [],
   "source": [
    "m = {  \n",
    "  'kind': '2CLJF-Dipole', \n",
    "  'model': {\n",
    "      \"author\": \"2CLJF_Lisal\",\n",
    "      'L^*': 0.5,\n",
    "      '(mu^*)^2': 0.1\n",
    "  }\n",
    "}\n",
    "model = teqp.make_model(m)\n",
    "\n",
    "m = {  \n",
    "  'kind': '2CLJF-Quadrupole', \n",
    "  'model': {\n",
    "      \"author\": \"2CLJF_Lisal\",\n",
    "      'L^*': 0.5,\n",
    "      '(mu^*)^2': 0.1\n",
    "  }\n",
    "}\n",
    "model = teqp.make_model(m)"
   ]
  }
 ],
 "metadata": {
  "kernelspec": {
   "display_name": "Python 3 (ipykernel)",
   "language": "python",
   "name": "python3"
  },
  "language_info": {
   "codemirror_mode": {
    "name": "ipython",
    "version": 3
   },
   "file_extension": ".py",
   "mimetype": "text/x-python",
   "name": "python",
   "nbconvert_exporter": "python",
   "pygments_lexer": "ipython3",
   "version": "3.10.6"
  }
 },
 "nbformat": 4,
 "nbformat_minor": 5
}
