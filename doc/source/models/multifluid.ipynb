{
 "cells": [
  {
   "cell_type": "markdown",
   "metadata": {},
   "source": [
    "# Multi-fluid EOS\n",
    "\n",
    "Peering into the innards of teqp"
   ]
  },
  {
   "cell_type": "code",
   "execution_count": 1,
   "metadata": {
    "execution": {
     "iopub.execute_input": "2022-07-06T18:40:06.606089Z",
     "iopub.status.busy": "2022-07-06T18:40:06.605465Z",
     "iopub.status.idle": "2022-07-06T18:40:07.147629Z",
     "shell.execute_reply": "2022-07-06T18:40:07.146669Z"
    }
   },
   "outputs": [
    {
     "data": {
      "text/plain": [
       "'0.9.2'"
      ]
     },
     "execution_count": 1,
     "metadata": {},
     "output_type": "execute_result"
    }
   ],
   "source": [
    "import timeit, json\n",
    "import pandas\n",
    "import numpy as np\n",
    "import teqp\n",
    "teqp.__version__"
   ]
  },
  {
   "cell_type": "markdown",
   "metadata": {},
   "source": [
    "## Pure fluid loading"
   ]
  },
  {
   "cell_type": "code",
   "execution_count": 2,
   "metadata": {
    "execution": {
     "iopub.execute_input": "2022-07-06T18:40:07.163785Z",
     "iopub.status.busy": "2022-07-06T18:40:07.163785Z",
     "iopub.status.idle": "2022-07-06T18:40:17.280030Z",
     "shell.execute_reply": "2022-07-06T18:40:17.278333Z"
    }
   },
   "outputs": [
    {
     "name": "stdout",
     "output_type": "stream",
     "text": [
      "12.9 ms ± 4.32 ms per loop (mean ± std. dev. of 7 runs, 100 loops each)\n"
     ]
    }
   ],
   "source": [
    "# By default teqp looks for fluids relative to the set of fluids in ROOT/dev/fluids\n",
    "# The name (case-sensitive) should match the .json file, without the json extension.\n",
    "%timeit model = teqp.build_multifluid_model([\"Methane\", \"Ethane\"], teqp.get_datapath())"
   ]
  },
  {
   "cell_type": "code",
   "execution_count": 3,
   "metadata": {
    "execution": {
     "iopub.execute_input": "2022-07-06T18:40:17.286031Z",
     "iopub.status.busy": "2022-07-06T18:40:17.285350Z",
     "iopub.status.idle": "2022-07-06T18:40:27.300085Z",
     "shell.execute_reply": "2022-07-06T18:40:27.299050Z"
    }
   },
   "outputs": [
    {
     "name": "stdout",
     "output_type": "stream",
     "text": [
      "120 ms ± 19.9 ms per loop (mean ± std. dev. of 7 runs, 10 loops each)\n"
     ]
    }
   ],
   "source": [
    "# And if you provide valid aliases, alias lookup will be used to resolve the name\n",
    "# But beware, this is rather a lot slower than the above because all fluid files need to be read\n",
    "# in to build the alias map\n",
    "%timeit model = teqp.build_multifluid_model([\"n-C1H4\", \"n-C3H8\"], teqp.get_datapath())"
   ]
  },
  {
   "cell_type": "markdown",
   "metadata": {},
   "source": [
    "So, how to make it faster? Only do it once and cache"
   ]
  },
  {
   "cell_type": "code",
   "execution_count": 4,
   "metadata": {
    "execution": {
     "iopub.execute_input": "2022-07-06T18:40:27.307115Z",
     "iopub.status.busy": "2022-07-06T18:40:27.307115Z",
     "iopub.status.idle": "2022-07-06T18:40:34.876155Z",
     "shell.execute_reply": "2022-07-06T18:40:34.875146Z"
    }
   },
   "outputs": [
    {
     "name": "stdout",
     "output_type": "stream",
     "text": [
      "85.4 ms ± 12.3 ms per loop (mean ± std. dev. of 7 runs, 10 loops each)\n"
     ]
    }
   ],
   "source": [
    "# Here is the set of possible aliases to absolute paths of files\n",
    "# Building this map takes a little while (somewhat faster in C++) due to all the file reads\n",
    "# If you know your files will not change, good idea to build this alias map yourself.\n",
    "%timeit aliasmap = teqp.build_alias_map(teqp.get_datapath())\n",
    "aliasmap = teqp.build_alias_map(teqp.get_datapath())"
   ]
  },
  {
   "cell_type": "code",
   "execution_count": 5,
   "metadata": {
    "execution": {
     "iopub.execute_input": "2022-07-06T18:40:34.879157Z",
     "iopub.status.busy": "2022-07-06T18:40:34.879157Z",
     "iopub.status.idle": "2022-07-06T18:40:42.930387Z",
     "shell.execute_reply": "2022-07-06T18:40:42.930079Z"
    }
   },
   "outputs": [
    {
     "name": "stdout",
     "output_type": "stream",
     "text": [
      "9.9 ms ± 164 µs per loop (mean ± std. dev. of 7 runs, 100 loops each)\n"
     ]
    }
   ],
   "source": [
    "# Then load the absolute paths from the alias map, \n",
    "# which will guarantee that you hit exactly what you were looking for,\n",
    "# resolving aliases as needed\n",
    "identifiers = [aliasmap[n] for n in [\"Neon\", \"Hydrogen\"]]\n",
    "%timeit model = teqp.build_multifluid_model(identifiers, teqp.get_datapath())"
   ]
  },
  {
   "cell_type": "markdown",
   "metadata": {},
   "source": [
    "At some point soon teqp will support in-memory loading of JSON data for the pure components, without requiring reads from the operating system"
   ]
  },
  {
   "cell_type": "code",
   "execution_count": 6,
   "metadata": {
    "execution": {
     "iopub.execute_input": "2022-07-06T18:40:42.932720Z",
     "iopub.status.busy": "2022-07-06T18:40:42.932720Z",
     "iopub.status.idle": "2022-07-06T18:40:42.946939Z",
     "shell.execute_reply": "2022-07-06T18:40:42.945927Z"
    }
   },
   "outputs": [],
   "source": [
    "# And you can also load the JSON that teqp is loading for the pure fluids\n",
    "pureJSON = teqp.collect_component_json(['Neon','Hydrogen'], teqp.get_datapath())"
   ]
  },
  {
   "cell_type": "markdown",
   "metadata": {},
   "source": [
    "## Mixture model loading"
   ]
  },
  {
   "cell_type": "code",
   "execution_count": 7,
   "metadata": {
    "execution": {
     "iopub.execute_input": "2022-07-06T18:40:42.949975Z",
     "iopub.status.busy": "2022-07-06T18:40:42.948972Z",
     "iopub.status.idle": "2022-07-06T18:40:42.962308Z",
     "shell.execute_reply": "2022-07-06T18:40:42.961547Z"
    }
   },
   "outputs": [],
   "source": [
    "# Load the default JSON for the binary interaction parameters\n",
    "BIP = json.load(open(teqp.get_datapath()+'/dev/mixtures/mixture_binary_pairs.json'))"
   ]
  },
  {
   "cell_type": "code",
   "execution_count": 8,
   "metadata": {
    "execution": {
     "iopub.execute_input": "2022-07-06T18:40:42.965595Z",
     "iopub.status.busy": "2022-07-06T18:40:42.964944Z",
     "iopub.status.idle": "2022-07-06T18:40:42.978409Z",
     "shell.execute_reply": "2022-07-06T18:40:42.977232Z"
    }
   },
   "outputs": [
    {
     "data": {
      "text/plain": [
       "{'BibTeX': 'Kunz-JCED-2012',\n",
       " 'CAS1': '74-82-8',\n",
       " 'CAS2': '74-84-0',\n",
       " 'F': 1.0,\n",
       " 'Name1': 'Methane',\n",
       " 'Name2': 'Ethane',\n",
       " 'betaT': 0.996336508,\n",
       " 'betaV': 0.997547866,\n",
       " 'function': 'Methane-Ethane',\n",
       " 'gammaT': 1.049707697,\n",
       " 'gammaV': 1.006617867}"
      ]
     },
     "execution_count": 8,
     "metadata": {},
     "output_type": "execute_result"
    }
   ],
   "source": [
    "# You can obtain interaction parameters either by pairs of names, where name is the name that teqp uses, the [\"INFO\"][\"NAME\"] field\n",
    "params, swap_needed = teqp.get_BIPdep(BIP, ['Methane','Ethane'])\n",
    "params"
   ]
  },
  {
   "cell_type": "code",
   "execution_count": 9,
   "metadata": {
    "execution": {
     "iopub.execute_input": "2022-07-06T18:40:42.981288Z",
     "iopub.status.busy": "2022-07-06T18:40:42.981288Z",
     "iopub.status.idle": "2022-07-06T18:40:42.993879Z",
     "shell.execute_reply": "2022-07-06T18:40:42.993281Z"
    }
   },
   "outputs": [
    {
     "data": {
      "text/plain": [
       "{'BibTeX': 'Kunz-JCED-2012',\n",
       " 'CAS1': '74-82-8',\n",
       " 'CAS2': '74-84-0',\n",
       " 'F': 1.0,\n",
       " 'Name1': 'Methane',\n",
       " 'Name2': 'Ethane',\n",
       " 'betaT': 0.996336508,\n",
       " 'betaV': 0.997547866,\n",
       " 'function': 'Methane-Ethane',\n",
       " 'gammaT': 1.049707697,\n",
       " 'gammaV': 1.006617867}"
      ]
     },
     "execution_count": 9,
     "metadata": {},
     "output_type": "execute_result"
    }
   ],
   "source": [
    "# Or also by CAS#\n",
    "params, swap_needed = teqp.get_BIPdep(BIP, ['74-82-8','74-84-0'])\n",
    "params"
   ]
  },
  {
   "cell_type": "code",
   "execution_count": 10,
   "metadata": {
    "execution": {
     "iopub.execute_input": "2022-07-06T18:40:42.996338Z",
     "iopub.status.busy": "2022-07-06T18:40:42.996338Z",
     "iopub.status.idle": "2022-07-06T18:40:43.423368Z",
     "shell.execute_reply": "2022-07-06T18:40:43.422895Z"
    },
    "tags": [
     "raises-exception"
    ]
   },
   "outputs": [
    {
     "ename": "ValueError",
     "evalue": "Can't match the binary pair for: 74-82-8/Ethane",
     "output_type": "error",
     "traceback": [
      "\u001b[1;31m---------------------------------------------------------------------------\u001b[0m",
      "\u001b[1;31mValueError\u001b[0m                                Traceback (most recent call last)",
      "Input \u001b[1;32mIn [10]\u001b[0m, in \u001b[0;36m<cell line: 2>\u001b[1;34m()\u001b[0m\n\u001b[0;32m      1\u001b[0m \u001b[38;5;66;03m# But mixing is not allowed\u001b[39;00m\n\u001b[1;32m----> 2\u001b[0m params, swap_needed \u001b[38;5;241m=\u001b[39m \u001b[43mteqp\u001b[49m\u001b[38;5;241;43m.\u001b[39;49m\u001b[43mget_BIPdep\u001b[49m\u001b[43m(\u001b[49m\u001b[43mBIP\u001b[49m\u001b[43m,\u001b[49m\u001b[43m \u001b[49m\u001b[43m[\u001b[49m\u001b[38;5;124;43m'\u001b[39;49m\u001b[38;5;124;43m74-82-8\u001b[39;49m\u001b[38;5;124;43m'\u001b[39;49m\u001b[43m,\u001b[49m\u001b[38;5;124;43m'\u001b[39;49m\u001b[38;5;124;43mEthane\u001b[39;49m\u001b[38;5;124;43m'\u001b[39;49m\u001b[43m]\u001b[49m\u001b[43m)\u001b[49m\n\u001b[0;32m      3\u001b[0m params\n",
      "\u001b[1;31mValueError\u001b[0m: Can't match the binary pair for: 74-82-8/Ethane"
     ]
    }
   ],
   "source": [
    "# But mixing is not allowed\n",
    "params, swap_needed = teqp.get_BIPdep(BIP, ['74-82-8','Ethane'])\n",
    "params"
   ]
  }
 ],
 "metadata": {
  "kernelspec": {
   "display_name": "Python 3 (ipykernel)",
   "language": "python",
   "name": "python3"
  },
  "language_info": {
   "codemirror_mode": {
    "name": "ipython",
    "version": 3
   },
   "file_extension": ".py",
   "mimetype": "text/x-python",
   "name": "python",
   "nbconvert_exporter": "python",
   "pygments_lexer": "ipython3",
   "version": "3.10.4"
  }
 },
 "nbformat": 4,
 "nbformat_minor": 4
}
