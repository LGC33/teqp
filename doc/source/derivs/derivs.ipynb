{
 "cells": [
  {
   "cell_type": "markdown",
   "id": "1afc4517",
   "metadata": {},
   "source": [
    "# Thermodynamic Derivatives"
   ]
  },
  {
   "cell_type": "code",
   "execution_count": 6,
   "id": "ca35cc29",
   "metadata": {},
   "outputs": [],
   "source": [
    "import teqp\n",
    "import numpy as np"
   ]
  },
  {
   "cell_type": "code",
   "execution_count": 7,
   "id": "8d254c40",
   "metadata": {},
   "outputs": [],
   "source": [
    "Tc_K = [300]\n",
    "pc_Pa = [4e6]\n",
    "acentric = [0.01]\n",
    "model = teqp.canonical_PR(Tc_K, pc_Pa, acentric)"
   ]
  },
  {
   "cell_type": "code",
   "execution_count": 8,
   "id": "49ee3453",
   "metadata": {},
   "outputs": [
    {
     "data": {
      "text/plain": [
       "-0.06836660379313926"
      ]
     },
     "execution_count": 8,
     "metadata": {},
     "output_type": "execute_result"
    }
   ],
   "source": [
    "z = np.array([1.0])\n",
    "model.get_Ar01(300,300,z)"
   ]
  }
 ],
 "metadata": {
  "kernelspec": {
   "display_name": "Python 3 (ipykernel)",
   "language": "python",
   "name": "python3"
  },
  "language_info": {
   "codemirror_mode": {
    "name": "ipython",
    "version": 3
   },
   "file_extension": ".py",
   "mimetype": "text/x-python",
   "name": "python",
   "nbconvert_exporter": "python",
   "pygments_lexer": "ipython3",
   "version": "3.10.4"
  }
 },
 "nbformat": 4,
 "nbformat_minor": 5
}
