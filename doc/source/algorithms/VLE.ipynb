{
 "cells": [
  {
   "cell_type": "markdown",
   "id": "8218498b",
   "metadata": {},
   "source": [
    "# Phase equilibria\n",
    "\n",
    "Two basic approaches are implemented in teqp:\n",
    "\n",
    "* Iterative calculations given guess values\n",
    "* Tracing along iso-curves (constant temperature, etc.) powered by the isochoric thermodynamics formalism"
   ]
  },
  {
   "cell_type": "code",
   "execution_count": 42,
   "id": "c0b4e863",
   "metadata": {},
   "outputs": [
    {
     "data": {
      "text/plain": [
       "'0.9.4.dev0'"
      ]
     },
     "execution_count": 42,
     "metadata": {},
     "output_type": "execute_result"
    }
   ],
   "source": [
    "import teqp\n",
    "import numpy as np\n",
    "import pandas\n",
    "import matplotlib.pyplot as plt\n",
    "teqp.__version__"
   ]
  },
  {
   "cell_type": "markdown",
   "id": "e57e532b",
   "metadata": {},
   "source": [
    "## Iterative Phase Equilibria"
   ]
  },
  {
   "cell_type": "markdown",
   "id": "1baf38e1",
   "metadata": {},
   "source": [
    "### Pure fluid\n",
    "\n",
    "For a pure fluid, phase equilibrium between two phases is defined by equating the pressures and Gibbs energies in the two phases. This represents a 2D non-linear rootfinding problem. Newton's method can be used for the rootfinding, and in teqp, automatic differentiation is used to obtain the necessary Jacobian matrix so the implementation is quite efficient.\n",
    "\n",
    "The method requires guess values, which are the densities of the liquid and vapor densities.  In some cases, ancillary or superancillary equations have been developed which provide curves of guess densities as a function of temperature.\n",
    "\n",
    "For a pure fluid, you can use the ``pure_VLE_T`` method to carry out the iteration."
   ]
  },
  {
   "cell_type": "raw",
   "id": "f0ca0b22",
   "metadata": {
    "raw_mimetype": "text/restructuredtext"
   },
   "source": [
    "The Python method is here: :py:meth:`pure_VLE_T <teqp.teqp.pure_VLE_T>`"
   ]
  },
  {
   "cell_type": "code",
   "execution_count": 43,
   "id": "2674227c",
   "metadata": {},
   "outputs": [
    {
     "data": {
      "text/plain": [
       "'guess:'"
      ]
     },
     "metadata": {},
     "output_type": "display_data"
    },
    {
     "data": {
      "text/plain": [
       "[12735.311173407898, 752.4082303122791]"
      ]
     },
     "metadata": {},
     "output_type": "display_data"
    },
    {
     "data": {
      "text/plain": [
       "array([12735.31117341,   752.40823031])"
      ]
     },
     "execution_count": 43,
     "metadata": {},
     "output_type": "execute_result"
    }
   ],
   "source": [
    "# Instantiate the model\n",
    "model = teqp.canonical_PR([300], [4e6], [0.1])\n",
    "\n",
    "T = 250 # [K], Temperature to be used\n",
    "\n",
    "# Here we use the superancillary to get guess values (actually these are more \n",
    "# accurate than the results we will obtain from iteration!)\n",
    "rhoL0, rhoV0 = model.superanc_rhoLV(T)\n",
    "display('guess:', [rhoL0, rhoV0])\n",
    "\n",
    "# Carry out the iteration, return the liquid and vapor densities\n",
    "# The guess values are perturbed to make sure the iteration is actually\n",
    "# changing the values\n",
    "teqp.pure_VLE_T(model, T, rhoL0*0.98, rhoV0*1.02, 10)"
   ]
  },
  {
   "cell_type": "markdown",
   "id": "f8805ae1",
   "metadata": {},
   "source": [
    "### Binary Mixture"
   ]
  },
  {
   "cell_type": "markdown",
   "id": "76bccf19",
   "metadata": {},
   "source": [
    "For a binary mixture, the approach is roughly similar to that of a pure fluid. The pressure is equated between phases, and the chemical potentials of each component in each phase are forced to be the same. \n",
    "\n",
    "Again, the user is required to provide guess values, in this case molar concentrations in each phase, and a Newton method is implemented to solve for the phase equilibrium. The analytical Jacobian is obtained from automatic differentiation.\n",
    "\n",
    "The ``mix_VLE_Tx`` function is the binary mixture analog to ``pure_VLE_T`` for pure fluids."
   ]
  },
  {
   "cell_type": "raw",
   "id": "eef189fd",
   "metadata": {
    "raw_mimetype": "text/restructuredtext"
   },
   "source": [
    "The Python method is here: :py:meth:`mix_VLE_Tx <teqp.teqp.mix_VLE_Tx>`"
   ]
  },
  {
   "cell_type": "code",
   "execution_count": 44,
   "id": "b12bd318",
   "metadata": {},
   "outputs": [
    {
     "data": {
      "text/plain": [
       "(<VLE_return_code.xtol_satisfied: 1>,\n",
       " array([  128.66049209, 12737.38871682]),\n",
       " array([  12.91868229, 1133.77242677]))"
      ]
     },
     "execution_count": 44,
     "metadata": {},
     "output_type": "execute_result"
    }
   ],
   "source": [
    "zA = np.array([0.01, 0.99])\n",
    "model = teqp.canonical_PR([300,310], [4e6,4.5e6], [0.1, 0.2])\n",
    "model1 = teqp.canonical_PR([300], [4e6], [0.1])\n",
    "T = 273.0 # [K]\n",
    "# start off at pure of the first component\n",
    "rhoL0, rhoV0 = model1.superanc_rhoLV(T)\n",
    "\n",
    "# then we shift to the given composition in the first phase\n",
    "# to get guess values\n",
    "rhovecA0 = rhoL0*zA\n",
    "rhovecB0 = rhoV0*zA\n",
    "\n",
    "# carry out the iteration\n",
    "code, rhovecA, rhovecB = teqp.mix_VLE_Tx(model, T, rhovecA0, rhovecB0, zA, \n",
    "     1e-10, 1e-10, 1e-10, 1e-10,  # stopping conditions\n",
    "     10 # maximum number of iterations\n",
    "    )\n",
    "code, rhovecA, rhovecB"
   ]
  },
  {
   "cell_type": "markdown",
   "id": "d72ef08e",
   "metadata": {},
   "source": [
    "You can (and should) check the value of the return code to make sure the iteration succeeded. Do not rely on the numerical value of the enumerated return codes!"
   ]
  },
  {
   "cell_type": "markdown",
   "id": "f4e3f914",
   "metadata": {},
   "source": [
    "# Tracing\n",
    "\n",
    "When it comes to mixture thermodynamics, as soon as you add another component to a pure component to form a binary mixture, the complexity of the thermodynamics entirely changes. For that reason, mixture iterative calculations for mixtures are orders of magnitude more difficult to carry out.  Asymmetric mixtures can do all sorts of interesting things that are entirely unlike those of pure fluids, and the algorithms are therefore much, much more complicated.  Formulating phase equilibrium problems for pure fluids is not much more complicated, but the most challenging aspect is to obtain good guess values from which to start an iterative routine\n",
    "\n",
    "Ulrich Deiters and Ian Bell have developed a number of algorithms for tracing phase equilibrium solutions as the solution of ordinary differential equations rather than carrying out iterative routines for a given state point.  The advantage of the tracing calculations is that they can be often initiated at a state point that is entirely known, perhaps the pure fluid endpoint for a subcritical isotherm."
   ]
  },
  {
   "cell_type": "raw",
   "id": "e0097771",
   "metadata": {
    "raw_mimetype": "text/restructuredtext"
   },
   "source": [
    "The Python method is here: :py:meth:`trace_VLE_isotherm_binary <teqp.teqp.trace_VLE_isotherm_binary>`"
   ]
  },
  {
   "cell_type": "markdown",
   "id": "63902dba",
   "metadata": {},
   "source": [
    "The C++ implementation returns a string in JSON format, which can be conveniently operated upon, for instance after converting the returned data structure to a ``pandas.DataFrame``.  A simple example of plotting a subcritical isotherm for a \"boring\" mixture is presented here:"
   ]
  },
  {
   "cell_type": "code",
   "execution_count": 47,
   "id": "49dcba2b",
   "metadata": {},
   "outputs": [
    {
     "data": {
      "text/plain": [
       "\"[{'T / K': 273.0, 'c': -1.0, 'drho/dt': [-0.618312383229212, 0.7690760182230469, -0.1277526773161415...\""
      ]
     },
     "metadata": {},
     "output_type": "display_data"
    },
    {
     "data": {
      "text/html": [
       "<div>\n",
       "<style scoped>\n",
       "    .dataframe tbody tr th:only-of-type {\n",
       "        vertical-align: middle;\n",
       "    }\n",
       "\n",
       "    .dataframe tbody tr th {\n",
       "        vertical-align: top;\n",
       "    }\n",
       "\n",
       "    .dataframe thead th {\n",
       "        text-align: right;\n",
       "    }\n",
       "</style>\n",
       "<table border=\"1\" class=\"dataframe\">\n",
       "  <thead>\n",
       "    <tr style=\"text-align: right;\">\n",
       "      <th></th>\n",
       "      <th>T / K</th>\n",
       "      <th>c</th>\n",
       "      <th>drho/dt</th>\n",
       "      <th>dt</th>\n",
       "      <th>pL / Pa</th>\n",
       "      <th>pV / Pa</th>\n",
       "      <th>rhoL / mol/m^3</th>\n",
       "      <th>rhoV / mol/m^3</th>\n",
       "      <th>t</th>\n",
       "      <th>xL_0 / mole frac.</th>\n",
       "      <th>xV_0 / mole frac.</th>\n",
       "    </tr>\n",
       "  </thead>\n",
       "  <tbody>\n",
       "    <tr>\n",
       "      <th>0</th>\n",
       "      <td>273.0</td>\n",
       "      <td>-1.0</td>\n",
       "      <td>[-0.618312383229212, 0.7690760182230469, -0.12...</td>\n",
       "      <td>0.000010</td>\n",
       "      <td>2.203397e+06</td>\n",
       "      <td>2.203397e+06</td>\n",
       "      <td>[10697.985891540735, 0.0]</td>\n",
       "      <td>[1504.6120879290752, 0.0]</td>\n",
       "      <td>0.000000</td>\n",
       "      <td>1.0</td>\n",
       "      <td>1.0</td>\n",
       "    </tr>\n",
       "    <tr>\n",
       "      <th>1</th>\n",
       "      <td>273.0</td>\n",
       "      <td>-1.0</td>\n",
       "      <td>[-0.6183123817120353, 0.7690760162922189, -0.1...</td>\n",
       "      <td>0.000045</td>\n",
       "      <td>2.203397e+06</td>\n",
       "      <td>2.203397e+06</td>\n",
       "      <td>[10697.985885357639, 7.690760309421386e-06]</td>\n",
       "      <td>[1504.6120866515366, 9.945415375682985e-07]</td>\n",
       "      <td>0.000010</td>\n",
       "      <td>1.0</td>\n",
       "      <td>1.0</td>\n",
       "    </tr>\n",
       "    <tr>\n",
       "      <th>2</th>\n",
       "      <td>273.0</td>\n",
       "      <td>-1.0</td>\n",
       "      <td>[-0.6183123827116788, 0.7690760173388914, -0.1...</td>\n",
       "      <td>0.000203</td>\n",
       "      <td>2.203397e+06</td>\n",
       "      <td>2.203397e+06</td>\n",
       "      <td>[10697.98585753358, 4.229918121248511e-05]</td>\n",
       "      <td>[1504.6120809026731, 5.469978386095445e-06]</td>\n",
       "      <td>0.000055</td>\n",
       "      <td>1.0</td>\n",
       "      <td>1.0</td>\n",
       "    </tr>\n",
       "  </tbody>\n",
       "</table>\n",
       "</div>"
      ],
      "text/plain": [
       "   T / K    c                                            drho/dt        dt  \\\n",
       "0  273.0 -1.0  [-0.618312383229212, 0.7690760182230469, -0.12...  0.000010   \n",
       "1  273.0 -1.0  [-0.6183123817120353, 0.7690760162922189, -0.1...  0.000045   \n",
       "2  273.0 -1.0  [-0.6183123827116788, 0.7690760173388914, -0.1...  0.000203   \n",
       "\n",
       "        pL / Pa       pV / Pa                               rhoL / mol/m^3  \\\n",
       "0  2.203397e+06  2.203397e+06                    [10697.985891540735, 0.0]   \n",
       "1  2.203397e+06  2.203397e+06  [10697.985885357639, 7.690760309421386e-06]   \n",
       "2  2.203397e+06  2.203397e+06   [10697.98585753358, 4.229918121248511e-05]   \n",
       "\n",
       "                                rhoV / mol/m^3         t  xL_0 / mole frac.  \\\n",
       "0                    [1504.6120879290752, 0.0]  0.000000                1.0   \n",
       "1  [1504.6120866515366, 9.945415375682985e-07]  0.000010                1.0   \n",
       "2  [1504.6120809026731, 5.469978386095445e-06]  0.000055                1.0   \n",
       "\n",
       "   xV_0 / mole frac.  \n",
       "0                1.0  \n",
       "1                1.0  \n",
       "2                1.0  "
      ]
     },
     "execution_count": 47,
     "metadata": {},
     "output_type": "execute_result"
    }
   ],
   "source": [
    "model = teqp.canonical_PR([300,310], [4e6,4.5e6], [0.1, 0.2])\n",
    "model1 = teqp.canonical_PR([300], [4e6], [0.1])\n",
    "T = 273.0 # [K]\n",
    "rhoL0, rhoV0 = model1.superanc_rhoLV(T) # start off at pure of the first component\n",
    "j = teqp.trace_VLE_isotherm_binary(model, T, np.array([rhoL0, 0]), np.array([rhoV0, 0]))\n",
    "display(str(j)[0:100]+'...') # The first few bits of the data\n",
    "df = pandas.DataFrame(j) # Now as a data frame\n",
    "df.head(3)"
   ]
  },
  {
   "cell_type": "code",
   "execution_count": 49,
   "id": "9aecca78",
   "metadata": {},
   "outputs": [
    {
     "data": {
      "image/png": "[encoded data removed]",
      "text/plain": [
       "<Figure size 432x288 with 1 Axes>"
      ]
     },
     "metadata": {
      "needs_background": "light"
     },
     "output_type": "display_data"
    }
   ],
   "source": [
    "plt.plot(df['xL_0 / mole frac.'], df['pL / Pa']/1e6)\n",
    "plt.plot(df['xV_0 / mole frac.'], df['pL / Pa']/1e6)\n",
    "plt.gca().set(xlabel='$x_1,y_1$ / mole frac.', ylabel='p / MPa')\n",
    "plt.show()"
   ]
  },
  {
   "cell_type": "markdown",
   "id": "a9c9fe55",
   "metadata": {},
   "source": [
    "Isn't that exciting!\n",
    "\n",
    "You can also provide an optional set of flags to the function to control other behaviors of the function, and switch between simple Euler and adaptive RK45 integration (the default)"
   ]
  },
  {
   "cell_type": "raw",
   "id": "264c5123",
   "metadata": {
    "raw_mimetype": "text/restructuredtext"
   },
   "source": [
    "The options class is here: :py:meth:`TVLEOptions <teqp.teqp.TVLEOptions>`"
   ]
  },
  {
   "cell_type": "markdown",
   "id": "d4193110",
   "metadata": {},
   "source": [
    "Supercritical isotherms should work approximately in the same manner"
   ]
  },
  {
   "cell_type": "code",
   "execution_count": null,
   "id": "c5b925ad",
   "metadata": {},
   "outputs": [],
   "source": [
    "Tc_K = [190.564, 154.581]\n",
    "pc_Pa = [4599200, 5042800]\n",
    "acentric = [0.011, 0.022]\n",
    "model = teqp.canonical_PR(Tc_K, pc_Pa, acentric)\n",
    "model1 = teqp.canonical_PR([Tc_K[0]], [pc_Pa[0]], [acentric[0]])\n",
    "T = 170.0 # [K] # Note: above Tc of the second component\n",
    "rhoL0, rhoV0 = model1.superanc_rhoLV(T) # start off at pure of the first component\n",
    "j = teqp.trace_VLE_isotherm_binary(model, T, np.array([rhoL0, 0]), np.array([rhoV0, 0]))\n",
    "df = pandas.DataFrame(j) # Now as a data frame\n",
    "plt.plot(df['xL_0 / mole frac.'], df['pL / Pa']/1e6)\n",
    "plt.plot(df['xV_0 / mole frac.'], df['pL / Pa']/1e6)\n",
    "plt.gca().set(xlabel='$x_1,y_1$ / mole frac.', ylabel='p / MPa')\n",
    "plt.show()"
   ]
  }
 ],
 "metadata": {
  "celltoolbar": "Raw Cell Format",
  "kernelspec": {
   "display_name": "Python 3 (ipykernel)",
   "language": "python",
   "name": "python3"
  },
  "language_info": {
   "codemirror_mode": {
    "name": "ipython",
    "version": 3
   },
   "file_extension": ".py",
   "mimetype": "text/x-python",
   "name": "python",
   "nbconvert_exporter": "python",
   "pygments_lexer": "ipython3",
   "version": "3.10.4"
  }
 },
 "nbformat": 4,
 "nbformat_minor": 5
}
