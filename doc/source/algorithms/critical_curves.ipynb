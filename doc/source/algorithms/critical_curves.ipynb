{
 "cells": [
  {
   "cell_type": "markdown",
   "id": "8218498b",
   "metadata": {},
   "source": [
    "# Critical curves\n",
    "\n",
    "A pure fluid has a single vapor-liquid critical point, but mixtures are different:\n",
    "\n",
    "* They may have multiple (or zero!) critical points for given mixture composition\n",
    "* The critical curves may not emanate from the pure fluid endpoints"
   ]
  }
 ],
 "metadata": {
  "kernelspec": {
   "display_name": "Python 3 (ipykernel)",
   "language": "python",
   "name": "python3"
  },
  "language_info": {
   "codemirror_mode": {
    "name": "ipython",
    "version": 3
   },
   "file_extension": ".py",
   "mimetype": "text/x-python",
   "name": "python",
   "nbconvert_exporter": "python",
   "pygments_lexer": "ipython3",
   "version": "3.10.4"
  }
 },
 "nbformat": 4,
 "nbformat_minor": 5
}
